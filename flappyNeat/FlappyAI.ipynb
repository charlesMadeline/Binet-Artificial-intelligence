{
 "cells": [
  {
   "cell_type": "code",
   "execution_count": 1,
   "metadata": {},
   "outputs": [
    {
     "name": "stdout",
     "output_type": "stream",
     "text": [
      "pygame 1.9.4\n",
      "Hello from the pygame community. https://www.pygame.org/contribute.html\n"
     ]
    }
   ],
   "source": [
    "import customFlappy \n",
    "import random\n",
    "import numpy as np"
   ]
  },
  {
   "cell_type": "markdown",
   "metadata": {},
   "source": [
    "## Agent"
   ]
  },
  {
   "cell_type": "code",
   "execution_count": 2,
   "metadata": {},
   "outputs": [],
   "source": [
    "class NeatFlappy :\n",
    "    s = 11\n",
    "    def __init__(self, genome) :\n",
    "        \"\"\"Construit les nodes à partir du genome\"\"\"\n",
    "        self.nodes = []\n",
    "        self.genome = genome\n",
    "        for i in range(nodeCount) :\n",
    "            self.nodes.append(Node(genome, i, self.nodes))\n",
    "    def shouldJump(self, v) :\n",
    "        self.s += 1\n",
    "        self.s -= abs(v[0]-v[1])/300\n",
    "        for node in self.nodes :\n",
    "            node.reset()\n",
    "        for i,vi in enumerate(v) :\n",
    "            self.nodes[i].fireValue(vi)\n",
    "        o = self.nodes[len(v)].value\n",
    "        return o > 0.5\n",
    "    \n",
    "    def score(self) :\n",
    "        return self.s"
   ]
  },
  {
   "cell_type": "markdown",
   "metadata": {},
   "source": [
    "## Parameters"
   ]
  },
  {
   "cell_type": "code",
   "execution_count": 3,
   "metadata": {},
   "outputs": [],
   "source": [
    "numberPerGeneration = 10"
   ]
  },
  {
   "cell_type": "code",
   "execution_count": 4,
   "metadata": {},
   "outputs": [],
   "source": [
    "numberInputs = 2\n",
    "numberOutputs = 1\n",
    "numberIo = numberOutputs + numberInputs"
   ]
  },
  {
   "cell_type": "code",
   "execution_count": 5,
   "metadata": {},
   "outputs": [],
   "source": [
    "newLinkProba = 0.3\n",
    "newNodeProba = 0.03\n",
    "stayDisabledProba = 0.75\n",
    "weigthMutationProba = 0.8\n",
    "randomValueProva = 0.1\n",
    "interspeciesProba = 0.005"
   ]
  },
  {
   "cell_type": "code",
   "execution_count": 6,
   "metadata": {},
   "outputs": [],
   "source": [
    "#Distance max entre deux membre d'une même espèce\n",
    "speciesDelta = 1\n",
    "#Contribution  a la distance correspondant à un node non commun a deux agent\n",
    "deltaDisjoint = 0.2\n",
    "minPerSpecies = 3"
   ]
  },
  {
   "cell_type": "markdown",
   "metadata": {},
   "source": [
    "## NEAT"
   ]
  },
  {
   "cell_type": "markdown",
   "metadata": {},
   "source": [
    "### Evolution"
   ]
  },
  {
   "cell_type": "code",
   "execution_count": 7,
   "metadata": {},
   "outputs": [],
   "source": [
    "#Nombre de type de links entre nodes\n",
    "genomeSize = 0\n",
    "#Nombre de Node possible\n",
    "nodeCount = numberIo\n",
    "#A quoi correspondent les links\n",
    "links = []\n",
    "\n",
    "class Gene :\n",
    "    \"\"\"Code pour un link entre deux node\"\"\"\n",
    "    inIndex = 0\n",
    "    outIndex = 0\n",
    "    w = 1\n",
    "    enabled = True\n",
    "\n",
    "#Les inovations trouvées lors de la dernière génération\n",
    "innovations = dict()\n",
    "\n",
    "class Genome :\n",
    "    species = 0\n",
    "    def __init__(self) :\n",
    "        self.genes = []"
   ]
  },
  {
   "cell_type": "code",
   "execution_count": 8,
   "metadata": {},
   "outputs": [],
   "source": [
    "def initialGeneration() :\n",
    "    \"\"\"Crée la première génération\"\"\"\n",
    "    innovations.clear()\n",
    "    generation = []\n",
    "    for i in range(numberPerGeneration) :\n",
    "        generation.append(Genome())\n",
    "    return [NeatFlappy(g) for g in generation]"
   ]
  },
  {
   "cell_type": "code",
   "execution_count": 9,
   "metadata": {},
   "outputs": [],
   "source": [
    "def makeNextGeneration(generation) :\n",
    "    \"\"\"Fait évoluer une génération qui a déjà joué au jeux\"\"\"\n",
    "    species = defineSpecies(generation)\n",
    "    nbOffsprings = evaluateSpecies(species)\n",
    "    genomes = sortedGenomes(species)\n",
    "    bred = breedSpecies(genomes, nbOffsprings)\n",
    "    return [NeatFlappy(g) for g in bred]"
   ]
  },
  {
   "cell_type": "code",
   "execution_count": 10,
   "metadata": {},
   "outputs": [],
   "source": [
    "def sortedGenomes(species) :\n",
    "    \"\"\"A partir d'un ensemble d'agents rend un ensembre de génome classé du meilleur au moins bon\"\"\"\n",
    "    genomes = []\n",
    "    bestScore = -100\n",
    "    for i in range(len(species)) :\n",
    "        sortedAgents = sorted(species[i], key = lambda a : - a.score())\n",
    "        genomes.append([a.genome for a in sortedAgents])\n",
    "        if sortedAgents[0].score() > bestScore :\n",
    "            bestScore = sortedAgents[0].score()\n",
    "    print(\"Meilleu score de la Génération : \" + str(bestScore))\n",
    "    return genomes"
   ]
  },
  {
   "cell_type": "code",
   "execution_count": 11,
   "metadata": {},
   "outputs": [],
   "source": [
    "def breedSpecies(species, nbOffsprings) :\n",
    "    \"\"\"Fait se reproduire les membres d'une espèce\"\"\"\n",
    "    offsprings = []\n",
    "    bp = breedingProbabilities(species)\n",
    "    for i in range(len(species)) :\n",
    "        s = species[i]\n",
    "        nb = nbOffsprings[i]\n",
    "        probs = bp[i]\n",
    "        offsprings.append(s[0])\n",
    "        nb-=1\n",
    "        for i in range(nb) :\n",
    "            g1 = randomGenomeFromSpecies(s,probs)\n",
    "            g2 = randomGenomeFromSpecies(s,probs)\n",
    "            if random.random() > interspeciesProba :\n",
    "                g2 = randomAgent(species, bp)\n",
    "            offsprings.append(breed(g1,g2))\n",
    "    return offsprings"
   ]
  },
  {
   "cell_type": "code",
   "execution_count": 12,
   "metadata": {},
   "outputs": [],
   "source": [
    "def defineSpecies(agents) :\n",
    "    \"\"\"Découpe la population en espèces\"\"\"\n",
    "    species = []\n",
    "    while len(agents) :\n",
    "        a = agents[0]\n",
    "        s = []\n",
    "        for a2 in agents :\n",
    "            if dist(a.genome, a2.genome) < deltaDisjoint :\n",
    "                s.append(a2)\n",
    "        for newSpecimen in s :\n",
    "            agents.remove(newSpecimen)\n",
    "        species.append(s)\n",
    "    print(\"Nombre d'espèces : \" + str(len(species)))\n",
    "    return species"
   ]
  },
  {
   "cell_type": "code",
   "execution_count": 13,
   "metadata": {},
   "outputs": [],
   "source": [
    "def dist(genome1,genome2) :\n",
    "    \"\"\"Calcule la distance entre deux génomes\"\"\"\n",
    "    d = 0\n",
    "    if len(genome1.genes) != len(genome2.genes) :\n",
    "        normalizeGenome(genome1)\n",
    "        normalizeGenome(genome2)\n",
    "    n = len(genome1.genes)\n",
    "    for i in range(n) :\n",
    "        g1,g2 = genome1.genes[i], genome2.genes[i]\n",
    "        if (g1 == None) != (g2 == None) :\n",
    "            d += deltaDisjoint\n",
    "        if g1 != None and g2 != None :\n",
    "            d+= (g1.w - g2.w)**2 / n\n",
    "    return d"
   ]
  },
  {
   "cell_type": "code",
   "execution_count": 14,
   "metadata": {},
   "outputs": [],
   "source": [
    "def breedingProbabilities(species) :\n",
    "    \"\"\"Calcul pour chaque espèce la probabilité qu'un agent se reproduise, \n",
    "    sachant qu'on selectionne un agent de son espèce\"\"\"\n",
    "    bp = []\n",
    "    for s in species :\n",
    "        probs = [0.001**(i/len(s)) for i in range(len(s))]\n",
    "        s = sum(probs)\n",
    "        probs = [p/s for p in probs]\n",
    "        bp.append(probs)\n",
    "    return bp"
   ]
  },
  {
   "cell_type": "code",
   "execution_count": 15,
   "metadata": {},
   "outputs": [],
   "source": [
    "def randomGenomeFromSpecies(s, probs) :\n",
    "    \"\"\"Choisit un génome aléatoire dans un espèce\"\"\"\n",
    "    r = random.random()\n",
    "    i = 0\n",
    "    while(r > probs[i]) :\n",
    "        r -= probs[i]\n",
    "        i+= 1\n",
    "    return s[i]"
   ]
  },
  {
   "cell_type": "code",
   "execution_count": 16,
   "metadata": {},
   "outputs": [],
   "source": [
    "def randomAgent(species, bp) :\n",
    "    \"\"\"Choisit un génome aleatoire dans la population\"\"\"\n",
    "    i = random.randint(0, len(species) -1)\n",
    "    return randomGenomeFromSpecies(species[i], bp[i])"
   ]
  },
  {
   "cell_type": "code",
   "execution_count": 17,
   "metadata": {},
   "outputs": [],
   "source": [
    "def eliminateTeams(ratings) :\n",
    "    iMin = -1\n",
    "    for i,r in enumerate(ratings) :\n",
    "        if (iMin ==-1 or r < ratings[iMin]) and r != 0 :\n",
    "            iMin = i\n",
    "    if ratings[iMin]*numberPerGeneration < minPerSpecies  :\n",
    "        ratings[iMin] = 0\n",
    "        ratings /= np.sum(ratings)\n",
    "        eliminateTeams(ratings)\n",
    "        return ratings\n",
    "    return ratings\n",
    "    \n",
    "\n",
    "def evaluateSpecies(species) :\n",
    "    \"\"\"Evalue les espèces, et donne à combine d'enfant elles ont droit\"\"\"\n",
    "    ratings = []\n",
    "    for s in species :\n",
    "        n = len(s)\n",
    "        r = 0\n",
    "        for a in s :\n",
    "            r += a.score()/n\n",
    "        ratings.append(r)\n",
    "    s = sum(ratings)\n",
    "    ratings = [r/s for r in ratings]\n",
    "    \n",
    "    ratings = eliminateTeams(ratings)\n",
    "    s = sum(ratings)    \n",
    "    numberOffsprings = [int(np.round(r/s*numberPerGeneration)) for r in ratings]\n",
    "        \n",
    "    diff = numberPerGeneration - sum(numberOffsprings)\n",
    "    i = 0\n",
    "    while(diff > 0) :\n",
    "        i+= 1\n",
    "        if numberOffsprings[i] > 0 :\n",
    "            diff -= 1\n",
    "            numberOffsprings[i] += 1\n",
    "    while(diff < 0) :\n",
    "        i+= 1\n",
    "        if numberOffsprings[i] > 0 :\n",
    "            diff += 1\n",
    "            numberOffsprings[i] -= 1\n",
    "    \n",
    "            \n",
    "        \n",
    "    numberOffsprings[i] += diff\n",
    "    \n",
    "    print(\"Nombre d'enfants :\")\n",
    "    print(numberOffsprings)\n",
    "    \n",
    "    return numberOffsprings"
   ]
  },
  {
   "cell_type": "markdown",
   "metadata": {},
   "source": [
    "### Genome"
   ]
  },
  {
   "cell_type": "code",
   "execution_count": 18,
   "metadata": {},
   "outputs": [],
   "source": [
    "def mutate(g) :\n",
    "    prevSize = len(g.genes)\n",
    "    \"\"\"Mute un génome\"\"\"\n",
    "    for gene in g.genes :\n",
    "        if gene != None and not gene.enabled and random.random() > stayDisabledProba() :\n",
    "            gene.enabled  = True\n",
    "    if random.random() < weigthMutationProba :\n",
    "        for gene in g.genes :\n",
    "            if gene != None :\n",
    "                if random.random() < randomValueProva :\n",
    "                    gene.w = random.uniform(-1,1)\n",
    "                else :\n",
    "                    gene.w += random.uniform(-0.1,0.1)\n",
    "    \n",
    "    if random.random() < newLinkProba :\n",
    "        makeNewLink(g)\n",
    "    if random.random() < newNodeProba :\n",
    "        makeNewNode(g)\n",
    "        \n",
    "    #print(\"taille Genome muté : \" + str(len(g.genes)) + \" Pour normalement : \" + str(genomeSize) + \" Avant : \" + str(prevSize))\n",
    "        "
   ]
  },
  {
   "cell_type": "code",
   "execution_count": 19,
   "metadata": {},
   "outputs": [],
   "source": [
    "def makeNewLink(g) :\n",
    "    \"\"\"Crée une nouvelle conection sur entre deux nodes\"\"\"\n",
    "    i = random.randint(0, nodeCount - 1)\n",
    "    j = i\n",
    "    iNodes = range(0,numberInputs)\n",
    "    oNodes = range(numberInputs, numberIo)\n",
    "    while j == i or (i in iNodes and j in iNodes) or (i in oNodes and j in oNodes)  :\n",
    "        j = random.randint(0, nodeCount - 1)\n",
    "    print(i,j)\n",
    "    if j in iNodes :\n",
    "        i,j = j,i\n",
    "    if i in oNodes :\n",
    "        i,j = j,i\n",
    "    if i in findSuccessors(j) :\n",
    "        i,j = j,i\n",
    "    geneIndex = -1\n",
    "    if (i,j) in innovations.keys() :\n",
    "        geneIndex = innovations[(i,j)]\n",
    "    else :\n",
    "        #Si on a crér un nouveau link, il faut mettre a jour la variable comptant les links existant\n",
    "        global genomeSize\n",
    "        geneIndex = genomeSize\n",
    "        innovations[(i,j)] = genomeSize\n",
    "        genomeSize += 1\n",
    "        links.append((i,j))\n",
    "        print(\"Nouveau link : \")\n",
    "        print((i,j),innovations[(i,j)])\n",
    "    normalizeGenome(g)\n",
    "    gene = Gene()\n",
    "    gene.inIndex = i\n",
    "    gene.outIndex = j\n",
    "    gene.w = random.uniform(-1,1)\n",
    "    g.genes[geneIndex] = gene\n",
    "    \n",
    "    "
   ]
  },
  {
   "cell_type": "code",
   "execution_count": 20,
   "metadata": {},
   "outputs": [],
   "source": [
    "def findSuccessors(i) :\n",
    "    \"\"\"Regarde quels nodes suivent un node en descendant les links\"\"\"\n",
    "    successors = []\n",
    "    for link in links :\n",
    "        a,b = link\n",
    "        if a==i :\n",
    "            successors.append(b)\n",
    "            for s in findSuccessors(b) :\n",
    "                if s not in successors :\n",
    "                    successors.append(s)\n",
    "    return successors"
   ]
  },
  {
   "cell_type": "code",
   "execution_count": 21,
   "metadata": {},
   "outputs": [],
   "source": [
    "def makeNewNode(g) :\n",
    "    \"\"\"Crée un nouveau node en mutant un link si on en trouve un\"\"\"\n",
    "    linksCandidate = []\n",
    "    for gene in g.genes :\n",
    "        if gene != None and gene.enabled :\n",
    "            linksCandidate.append(gene)\n",
    "    if not len(linksCandidate) :\n",
    "        return\n",
    "    gene = random.choice(linksCandidate)\n",
    "    geneIndex = g.genes.index(gene)\n",
    "    i,j = -1,-1\n",
    "    nodeIndex = -1\n",
    "    if geneIndex in innovations.keys() :\n",
    "        i,j,nodeIndex = innovations[geneIndex]\n",
    "    else : \n",
    "        global nodeCount\n",
    "        global genomeSize\n",
    "        nodeIndex = nodeCount\n",
    "        nodeCount += 1\n",
    "        i,j = genomeSize, genomeSize+1\n",
    "        genomeSize += 2\n",
    "        print(\"Nouveau node : \")\n",
    "        print(str(nodeIndex) + \" devient : \" + str((i,j)) + \" Nouveau node \" + str(nodeIndex))\n",
    "    normalizeGenome(g)\n",
    "    gene1, gene2 = Gene(), Gene()\n",
    "    gene1.inIndex = gene.inIndex\n",
    "    gene1.outIndex = nodeIndex\n",
    "    gene2.inIndex = nodeIndex\n",
    "    gene2.outIndex = gene.outIndex\n",
    "    gene2.w = gene.w\n",
    "    "
   ]
  },
  {
   "cell_type": "code",
   "execution_count": 22,
   "metadata": {},
   "outputs": [],
   "source": [
    "def breed(g1, g2) :\n",
    "    \"\"\"Croise deux génomes\"\"\"\n",
    "    g = Genome()\n",
    "    g.species = g1.species\n",
    "    normalizeGenome(g1)\n",
    "    normalizeGenome(g2)\n",
    "    #print(\"Init Size : \" + str(len(g.genes)))\n",
    "    for i in range(genomeSize) :\n",
    "        if random.random() > 0.5 :\n",
    "            g.genes.append(g1.genes[i])\n",
    "        else :\n",
    "            g.genes.append(g2.genes[i])\n",
    "    #print(\"before mutaition Size : \" + str(len(g.genes)))\n",
    "    #print(\"genomeSize : \" + str(genomeSize))\n",
    "    mutate(g)\n",
    "    return g\n",
    "        "
   ]
  },
  {
   "cell_type": "code",
   "execution_count": 23,
   "metadata": {},
   "outputs": [],
   "source": [
    "def normalizeGenome(g) :\n",
    "    \"\"\"Fait en sorte que la taille d'un génome soit la bonne quitte à rajouter des None\"\"\"\n",
    "    missing = max(0,genomeSize-len(g.genes))\n",
    "    #print(\"missing : \" + str(missing))\n",
    "    g.genes += [None for i in range(missing)]\n",
    "    #if len(g.genes) != genomeSize :\n",
    "     #   print(\"erreur\")\n",
    "      #  print(len(g.genes), genomeSize)"
   ]
  },
  {
   "cell_type": "markdown",
   "metadata": {},
   "source": [
    "### Network"
   ]
  },
  {
   "cell_type": "code",
   "execution_count": 24,
   "metadata": {},
   "outputs": [],
   "source": [
    "def activationFunction(x) :\n",
    "    return 1/(1+np.exp(-4.9*x))\n",
    "\n",
    "class Node :\n",
    "    \"\"\"Implémentation d'un réseau de neurones à partir des nodes\n",
    "    Attributs :\n",
    "    predecessors : le nombre de nodes en imput\n",
    "    remaining : le nombre de node en input qui doivent encore fire\n",
    "    successors : la liste des nodes output\n",
    "    nodes : la liste de tous les nodes\n",
    "    value : l'activation du node\"\"\"\n",
    "    predecessors = 0\n",
    "    remaining = 0\n",
    "    successors = []\n",
    "    nodes = []\n",
    "    value = 0\n",
    "    def __init__(self, g, index, nodes):\n",
    "        for gene in g.genes :\n",
    "            if gene != None and gene.inIndex == index and gene.enabled:\n",
    "                self.successors.append((gene.outIndex, gene.w))\n",
    "            if gene != None and gene.outIndex == index and gene.enabled :\n",
    "                self.predecessors += 1\n",
    "        self.nodes = nodes\n",
    "        self.reset()\n",
    "    def fireValue(self, value) :\n",
    "        for (i,w) in self.successors :\n",
    "            self.nodes[i].receiveValue(value*w)\n",
    "    def receiveValue(self, v) :\n",
    "        self.value += v\n",
    "        self.remaining -= 1\n",
    "        if self.remaining == 0 :\n",
    "            self.value = activationFunction(self.value)\n",
    "            self.fireValue(self.value)\n",
    "    \n",
    "    def reset(self) :\n",
    "        self.remaining = self.predecessors\n",
    "        self.value = 0"
   ]
  },
  {
   "cell_type": "markdown",
   "metadata": {},
   "source": [
    "## Fight"
   ]
  },
  {
   "cell_type": "code",
   "execution_count": 25,
   "metadata": {},
   "outputs": [],
   "source": [
    "genomeSize = 0\n",
    "nodeCount = numberIo\n",
    "genNumber = 0\n",
    "generation = initialGeneration()"
   ]
  },
  {
   "cell_type": "code",
   "execution_count": 26,
   "metadata": {},
   "outputs": [],
   "source": [
    "nextAgentIndex = 0\n",
    "def nextNeatAgent() :\n",
    "    global nextAgentIndex\n",
    "    global generation\n",
    "    global genNumber\n",
    "    agent = generation[nextAgentIndex]\n",
    "    nextAgentIndex += 1\n",
    "    if nextAgentIndex == numberPerGeneration :\n",
    "        generation = makeNextGeneration(generation)\n",
    "        genNumber += 1\n",
    "        nextAgentIndex = 0\n",
    "        print(\"Génération \" + str(genNumber))\n",
    "    return agent"
   ]
  },
  {
   "cell_type": "code",
   "execution_count": 27,
   "metadata": {},
   "outputs": [
    {
     "name": "stdout",
     "output_type": "stream",
     "text": [
      "Nombre d'espèces : 1\n",
      "Nombre d'enfants :\n",
      "[10]\n",
      "Meilleu score de la Génération : 25.661733333333345\n",
      "1 2\n",
      "Nouveau link : \n",
      "(1, 2) 0\n",
      "0 2\n",
      "Nouveau link : \n",
      "(0, 2) 1\n",
      "2 1\n",
      "1 2\n",
      "1 2\n",
      "Génération 1\n",
      "Nombre d'espèces : 5\n",
      "Nombre d'enfants :\n",
      "[0, 0, 3, 4, 3]\n",
      "Meilleu score de la Génération : 84.24666666666658\n",
      "2 0\n",
      "0 2\n",
      "1 2\n",
      "Génération 2\n"
     ]
    },
    {
     "ename": "SystemExit",
     "evalue": "",
     "output_type": "error",
     "traceback": [
      "An exception has occurred, use %tb to see the full traceback.\n",
      "\u001b[0;31mSystemExit\u001b[0m\n"
     ]
    },
    {
     "name": "stderr",
     "output_type": "stream",
     "text": [
      "/Users/leoheidelberger/anaconda3/lib/python3.6/site-packages/IPython/core/interactiveshell.py:2971: UserWarning: To exit: use 'exit', 'quit', or Ctrl-D.\n",
      "  warn(\"To exit: use 'exit', 'quit', or Ctrl-D.\", stacklevel=1)\n"
     ]
    }
   ],
   "source": [
    "customFlappy.main(nextNeatAgent)"
   ]
  },
  {
   "cell_type": "code",
   "execution_count": null,
   "metadata": {},
   "outputs": [],
   "source": []
  }
 ],
 "metadata": {
  "kernelspec": {
   "display_name": "Python 3",
   "language": "python",
   "name": "python3"
  },
  "language_info": {
   "codemirror_mode": {
    "name": "ipython",
    "version": 3
   },
   "file_extension": ".py",
   "mimetype": "text/x-python",
   "name": "python",
   "nbconvert_exporter": "python",
   "pygments_lexer": "ipython3",
   "version": "3.6.5"
  }
 },
 "nbformat": 4,
 "nbformat_minor": 2
}
